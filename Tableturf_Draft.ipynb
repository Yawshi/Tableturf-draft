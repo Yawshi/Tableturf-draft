{
  "nbformat": 4,
  "nbformat_minor": 0,
  "metadata": {
    "colab": {
      "provenance": [],
      "collapsed_sections": [
        "tYn-Tx6-FvJ3"
      ],
      "authorship_tag": "ABX9TyOZXWgUm8wEv0+M1MWU9j2m",
      "include_colab_link": true
    },
    "kernelspec": {
      "name": "python3",
      "display_name": "Python 3"
    },
    "language_info": {
      "name": "python"
    }
  },
  "cells": [
    {
      "cell_type": "markdown",
      "metadata": {
        "id": "view-in-github",
        "colab_type": "text"
      },
      "source": [
        "<a href=\"https://colab.research.google.com/github/Yawshi/Tableturf-draft/blob/main/Tableturf_Draft.ipynb\" target=\"_parent\"><img src=\"https://colab.research.google.com/assets/colab-badge.svg\" alt=\"Open In Colab\"/></a>"
      ]
    },
    {
      "cell_type": "markdown",
      "source": [
        "# Setup code\n",
        "\n",
        "Be sure to run this before you start drafting!\n",
        "\n",
        "Do this either by going to (in the top function bar) Runtime -> Run all\n",
        "\n",
        "or clicking the play button below this, to the left of \"3 cells hidden\".\n",
        "\n",
        "Please do not touch anything here ^-^"
      ],
      "metadata": {
        "id": "tYn-Tx6-FvJ3"
      }
    },
    {
      "cell_type": "code",
      "execution_count": null,
      "metadata": {
        "id": "bx-ehh1tEslM"
      },
      "outputs": [],
      "source": [
        "card_list = [\"No. 1 -> Hero Shot\", \"No. 2 -> Sploosh-o-Matic\", \"No. 3 -> Splattershot Jr.\", \"No. 4 -> Splash-o-matic\", \"No. 5 -> Aerospray MG\", \"No. 6 -> Splattershot\", \"No. 7 -> .52 Gal\", \"No. 8 -> N-Zap '85\", \"No. 9 -> Splattershot Pro\", \"No. 10 -> .96 Gal\", \"No. 11 -> Jet Squelcher\", \"No. 12 -> Luna Blaster\", \"No. 13 -> Blaster\", \"No. 14 -> Range Blaster\", \"No. 15 -> Clash Blaster\", \"No. 16 -> Rapid Blaster\", \"No. 17 -> Rapid Blaster Pro\", \"No. 18 -> L-3 Nozzlenose\", \"No. 19 -> H-3 Nozzlenose\", \"No. 20 -> Squeezer\", \"No. 21 -> Carbon Roller\", \"No. 22 -> Splat Roller\", \"No. 23 -> Dynamo Roller\", \"No. 24 -> Flingza Roller\", \"No. 25 -> Inkbrush\", \"No. 26 -> Octobrush\", \"No. 27 -> Classic Squiffer\", \"No. 28 -> Splat Charger\", \"No. 29 -> Splatterscope\", \"No. 30 -> E-Liter 4K\", \"No. 31 -> E-Liter 4K Scope\", \"No. 32 -> Bamboozler 14 MK I\", \"No. 33 -> Goo Tuber\", \"No. 34 -> Slosher\", \"No. 35 -> Tri-Slosher\", \"No. 36 -> Sloshing Machine\", \"No. 37 -> Bloblobber\", \"No. 38 -> Explosher\", \"No. 39 -> Mini Splatling\", \"No. 40 -> Heavy Splatling\", \"No. 41 -> Hydra Splatling\", \"No. 42 -> Ballpoint Splatling\", \"No. 43 -> Nautilus 47\", \"No. 44 -> Dapple Dualies\", \"No. 45 -> Splat Dualies\", \"No. 46 -> Glooga Dualies\", \"No. 47 -> Dualie Squelchers\", \"No. 48 -> Dark Tetra Dualies\", \"No. 49 -> Splat Brella\", \"No. 50 -> Tenta Brella\", \"No. 51 -> Undercover Brella\", \"No. 52 -> Tri-stringer\", \"No. 53 -> Reef-Lux 450\", \"No. 54 -> Splatana Stamper\", \"No. 55 -> Splatana wiper\", \"No. 56 -> Splat Bomb\", \"No. 57 -> Suction Bomb\", \"No. 58 -> Burst Bomb\", \"No. 59 -> Sprinkler\", \"No. 60 -> Splash Wall\", \"No. 61 -> Fizzy Bomb\", \"No. 62 -> Curling Bomb\", \"No. 63 -> AutoBomb\", \"No. 64 -> Squid Beakon\", \"No. 65 -> Point Sensor\", \"No. 66 -> Ink Mine\", \"No. 67 -> Toxic Mist\", \"No. 68 -> Angle Shooter\", \"No. 69 -> Torpedo\", \"No. 70 -> Trizooka\", \"No. 71 -> Big Bubbler\", \"No. 72 -> ZipCaster\", \"No. 73 -> Tenta Missiles\", \"No. 74 -> Ink Storm\", \"No. 75 -> Booyah Bomb\", \"No. 76 -> Wave Breaker\", \"No. 77 -> Ink Vac\", \"No. 78 -> Killer Wail 5.1\", \"No. 79 -> Inkjet\", \"No. 80 -> Ultra Stamp\", \"No. 81 -> Crab Tank\", \"No. 82 -> Reefslider\", \"No. 83 -> Triple Inkstrike\", \"No. 84 -> Tacticooler\", \"No. 85 -> Sheldon\", \"No. 86 -> Gnarly Eddy\", \"No. 87 -> Jel La Fleur\", \"No. 88 -> Mr. Coco\", \"No. 89 -> Harmony\", \"No. 90 -> Murch\", \"No. 91 -> Mr. Grizz\", \"No. 92 -> Marigold\", \"No. 93 -> Smallfry\", \"No. 94 -> Cuttlefish\", \"No. 95 -> Captain\", \"No. 96 -> Callie\", \"No. 97 -> Marie\", \"No. 98 -> Shiver\", \"No. 99 -> Frye\", \"No. 100 -> Big Man\", \"No. 101 -> Judd\", \"No. 102 -> Li'l Judd\", \"No. 103 -> Squidforce\", \"No. 104 -> Zink\", \"No. 105 -> Krak-On\", \"No. 106 -> Rockenberg\", \"No. 107 -> Zekko\", \"No. 108 -> Forge\", \"No. 109 -> FireFin\", \"No. 110 -> Skalop\", \"No. 111 -> Splash Mob\", \"No. 112 -> Inkline\", \"No. 113 -> Tentatek\", \"No. 114 -> Takoroka\", \"No. 115 -> Annaki\", \"No. 116 -> Emperry\", \"No. 117 -> Toni Kensa\", \"No. 118 -> Barazushi\", \"No. 119 -> Emberz\", \"No. 120 -> Octotrooper\", \"No. 121 -> Shielded Octotrooper\", \"No. 122 -> Twintacle Octotrooper\", \"No. 123 -> Octohopper\", \"No. 124 -> Octocopter\", \"No. 125 -> Octobomber\", \"No. 126 -> Octodisco\", \"No. 127 -> Octopod\", \"No. 128 -> Oversized Octopod\", \"No. 129 -> Tentakook\", \"No. 130 -> Octosniper\", \"No. 131 -> Octocommander\", \"No. 132 -> Octomissle\", \"No. 133 -> Octozepplin\", \"No. 134 -> Squee-G\", \"No. 135 -> Octostamp\", \"No. 136 -> Amped Octostamp\", \"No. 137 -> Flooder\", \"No. 138 -> Octoballer\", \"No. 139 -> Octoling\", \"No. 140 -> DJ Octavio\", \"No. 141 -> Chum\", \"No. 142 -> Cohock\", \"No. 143 -> Snatcher\", \"No. 144 -> Steelhead\", \"No. 145 -> Steel Eel\", \"No. 146 -> Scrapper\", \"No. 147 -> Stinger\", \"No. 148 -> Maws\", \"No. 149 -> Drizzler\", \"No. 150 -> Flydish\", \"No. 151 -> Fish Stick\", \"No. 152 -> Flipper Flopper\", \"No. 153 -> Slammin' lid\", \"No. 154 -> Big Shot\", \"No. 155 -> Goldie\", \"No. 156 -> Griller\", \"No. 157 -> Mothership\", \"No. 158 -> Mudmouth\", \"No. 159 -> Zapfish\", \"No. 160 -> Tower Control Tower\", \"No. 161 -> Rainmaker\", \"No. 162 -> Power Clam\", \"No. 163 -> Custom Splattershot jr.\", \"No. 164 -> Aerospray RG\", \"No. 165 -> Tentatek Splattershot\", \"No. 166 -> Forge Splattershot Pro\", \"No. 167 -> Splattershot Nova\", \"No. 168 -> Luna Blaster Neo\", \"No. 169 -> Carbon Roller Deco\", \"No. 170 -> Big Swig Roller\", \"No. 171 -> Inkbrush Nouveau\", \"No. 172 -> Snipewriter 5H\", \"No. 173 -> Slosher Deco\", \"No. 174 -> Zink Mini Splatling\", \"No. 175 -> Dapple Daulies Nouveau\", \"No. 176 -> Neo Sploosh-o-Matic\", \"No. 177 -> Neo Splash-o-Matic\", \"No. 178 -> N-Zap '89\", \"No. 179 -> .96 Gal Deco\", \"No. 180 -> Custom Jet Squelcher\", \"No. 181 -> Clash Blaster Neo\", \"No. 182 -> Rapid Blaster Deco\", \"No. 183 -> L-3 Nozzlenose D\", \"No. 184 -> Krak-On Splat Roller\", \"No. 185 -> Z+F Splat Charger\", \"No. 186 -> Z+F Splatterscope\", \"No. 187 -> Tri-slosher nouveau\", \"No. 188 -> Kraken Royal\", \"No. 189 -> Super Chump\", \"No. 190 -> Shelly + Donny\", \"No. 191 -> Annie\", \"No. 192 -> Jelonzo\", \"No. 193 -> Fred Crumbs\", \"No. 194 -> Spykes\", \"No. 195 -> The Eel Deal - Frye\", \"No. 196 -> The Cold-Blooded Bandit - Shiver\", \"No. 197 -> The Hype Manta Storm - Big Man\", \"No. 198 -> Z+F\", \"No. 199 -> Annaki Splattershot Nova\", \"No. 200 -> Rapid Blaster Pro Deco\", \"No. 201 -> S-Blast '93\", \"No. 202 -> H-3 Nozzlenose D\", \"No. 203 -> Big Swig Roller Express\", \"No. 204 -> PainBrush\", \"No. 205 -> Heavy Splatling Deco\", \"No. 206 -> Custom Dualie Squelchers\", \"No. 207 -> Light Tetra Dualies\", \"No. 208 -> Tenta Sorella Brella\", \"No. 209 -> Splatana Wiper Deco\", \"No. 210 -> Gold Dynamo Roller\", \"No. 211 -> Octobrush Nouveau\", \"No. 212 -> Custom GooTuber\", \"No. 213 -> Sloshing Machine Neo\", \"No. 214 -> Bloblobber Deco\", \"No. 215 -> Dread wringer\", \"No. 216 -> Ballpoint Splatling Nouveau\", \"No. 217 -> Heavy Edit Splatling\", \"No. 218 -> Sorella Brella\", \"No. 219 -> InkLine Tri-Stringer\", \"No. 220 -> Cohozuna\", \"No. 221 -> Horrorboros\", \"No. 222 -> Custom Blaster\", \"No. 223 -> Foil Squeezer\", \"No. 224 -> Emperry Splat Dualies\", \"No. 225 -> Undercover Sorella Brella\", \"No. 226 -> Reef-Lux 450 Deco\", \"No. 227 -> Splatana Stamper Nouveau\", \"No. 228 -> Snipewriter 5B\", \"No. 229 -> S-Blast '91\", \"No. 230 -> PainBrush Nouveau\", \"No. 231 -> Triple Splashdown\", \"No. 232 -> Splattercolor Screen\", \"No. 233 -> Order Dualies\", \"No. 234 -> .52 Gal Deco\", \"No. 235 -> Foil Flingza Roller\", \"No. 236 -> New Squiffer\", \"No. 237 -> Custom E-liter 4K\", \"No. 238 -> Customer E-liter 4K Scope\", \"No. 239 -> Custom Explosher\", \"No. 240 -> Dread Wringer D\", \"No. 241 -> Nautilus 79\", \"No. 242 -> Glooga Dualies Deco\", \"No. 243 -> Douser Dualies FF\", \"No. 244 -> Recycled Brella 24 MK I\", \"No. 245 -> Flow\", \"No. 246 -> Jelfonzo\", \"No. 247 -> Bisk\", \"No. 248 -> Acht\", \"No. 249 -> Cipher\", \"No. 250 -> Pearl Drone\", \"No. 251 -> Pearl\", \"No. 252 -> Marina\", \"No. 253 -> Custom Range Blaster\", \"No. 254 -> Bamboozler 14 Mk II\", \"No. 255 -> Custom Hydra Splatling\", \"No. 256 -> Heavy Edit Splatling Nouveau\", \"No. 257 -> Custom Douser Dualies FF\", \"No. 258 -> Recycled Brella 24 Mk II\", \"No. 259 -> Wellstring V\", \"No. 260 -> Cutsom Wellstring V\", \"No. 261 -> Mint Decavitator\", \"No. 262 -> Charcoal Decavitator\", \"No. 263 -> Crusty Sean\", \"No. 264 -> The Ursine Anomaly - 03\", \"No. 265 -> Megalodontia\", \"No. 266 -> Overlorder\"]"
      ]
    },
    {
      "cell_type": "code",
      "source": [
        "import random\n",
        "\n",
        "def draft_one():\n",
        "    global rerolls\n",
        "\n",
        "    index_1 = random.randrange(len(card_list))\n",
        "    card_1 = card_list.pop(index_1)\n",
        "    index_2 = random.randrange(len(card_list))\n",
        "    card_2 = card_list.pop(index_2)\n",
        "\n",
        "    print(card_1)\n",
        "    print(card_2)\n",
        "    print()\n",
        "    print(f\"Enter 1 or 2 to pick your card, \\nor 0 to reroll this pair of cards. \\nYou have {rerolls} rerolls left.\")\n",
        "    choice = prompt_input()\n",
        "\n",
        "    if choice == \"1\":\n",
        "        print(f\"You picked {card_1}, \\nyour opponent will recieve {card_2}. \\n\")\n",
        "        return card_1, card_2\n",
        "    elif choice == \"2\":\n",
        "        print(f\"You picked {card_2}, \\nyour opponent will recieve {card_1}. \\n\")\n",
        "        return card_2, card_1\n",
        "    else:\n",
        "        print(\"You chose to reroll, here are your new options: \\n\")\n",
        "        return draft_one()\n",
        "\n",
        "def prompt_input():\n",
        "    global rerolls\n",
        "\n",
        "    user_input = input(\"Make a choice: \")\n",
        "    if user_input == \"1\" or user_input == \"2\":\n",
        "        return user_input\n",
        "    elif user_input == \"0\" and rerolls > 0:\n",
        "        rerolls = rerolls - 1\n",
        "        return \"0\"\n",
        "    else:\n",
        "        print(\"Invalid input, try again!\")\n",
        "        return prompt_input()"
      ],
      "metadata": {
        "id": "3Fx36J8jNQZu"
      },
      "execution_count": null,
      "outputs": []
    },
    {
      "cell_type": "code",
      "source": [
        "def draft_all(rounds, rerolls):\n",
        "    my_deck = []\n",
        "    opp_deck = []\n",
        "\n",
        "    for r in range(rounds):\n",
        "        print(f\"- - - - - ROUND {r+1} - - - - - \\n\")\n",
        "        my_card, opp_card = draft_one()\n",
        "        my_deck.append(my_card)\n",
        "        opp_deck.append(opp_card)\n",
        "        print()\n",
        "\n",
        "    print(f\"- - - - - DRAFT COMPLETE - - - - -\")\n",
        "    print(\"Your cards:\")\n",
        "    for card in my_deck:\n",
        "        print(card)\n",
        "    print()\n",
        "    print(\"Opponent's cards:\")\n",
        "    for card in opp_deck:\n",
        "        print(card)"
      ],
      "metadata": {
        "id": "QwE9IxhmW4OE"
      },
      "execution_count": null,
      "outputs": []
    },
    {
      "cell_type": "markdown",
      "source": [
        "# User code\n",
        "\n",
        "Feel free to set these parameters!\n",
        "\n",
        "Before you start drafting, check if the first code block (the one that says \"parameters\") has a green checkmark to its left.\n",
        "\n",
        "If there isn't one, hover over the square brackets [ ] on the left side of the block and click the play button that appears.\n",
        "\n",
        "For each draft run, you only need to run the last code block (the one that says \"draft_all\").\n",
        "\n",
        "Have fun!"
      ],
      "metadata": {
        "id": "ls1YlSIlZMcx"
      }
    },
    {
      "cell_type": "code",
      "source": [
        "# parameters\n",
        "# default rounds = 7, rerolls = 1\n",
        "# make sure there is a green checkmark to the left of this!\n",
        "\n",
        "rounds = 7\n",
        "rerolls = 1"
      ],
      "metadata": {
        "id": "RZDKcK9aQM1q"
      },
      "execution_count": null,
      "outputs": []
    },
    {
      "cell_type": "code",
      "source": [
        "# when you're ready, run this!\n",
        "draft_all(rounds, rerolls)"
      ],
      "metadata": {
        "id": "XCBinOlGVdgn"
      },
      "execution_count": null,
      "outputs": []
    }
  ]
}